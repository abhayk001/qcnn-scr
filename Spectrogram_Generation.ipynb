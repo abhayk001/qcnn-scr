{
  "nbformat": 4,
  "nbformat_minor": 0,
  "metadata": {
    "colab": {
      "provenance": []
    },
    "kernelspec": {
      "name": "python3",
      "display_name": "Python 3"
    },
    "language_info": {
      "name": "python"
    }
  },
  "cells": [
    {
      "cell_type": "markdown",
      "source": [
        "# Generation of the Spectrograms for Speech Command Recognition"
      ],
      "metadata": {
        "id": "FNnVtgELzLZP"
      }
    },
    {
      "cell_type": "markdown",
      "source": [
        "Download the speech command dataset you want to use.\n",
        "Here we use the Speech Commands Dataset V1 by Google (https://ai.googleblog.com/2017/08/launching-speech-commands-dataset.html). We use a truncated version of this dataset that contains 10 commands."
      ],
      "metadata": {
        "id": "PN065uZUt68w"
      }
    },
    {
      "cell_type": "code",
      "execution_count": null,
      "metadata": {
        "id": "voVnPw3PtXJ1"
      },
      "outputs": [],
      "source": [
        "!unzip /content/drive/MyDrive/Datasets/speech_commands_v1_10_commands.zip -d ."
      ]
    },
    {
      "cell_type": "code",
      "source": [
        "cd speech_commands_v1_10_commands"
      ],
      "metadata": {
        "colab": {
          "base_uri": "https://localhost:8080/"
        },
        "id": "wIJzK_hsyBEj",
        "outputId": "201adc2e-e7f3-44ad-c3aa-99def1508449"
      },
      "execution_count": 3,
      "outputs": [
        {
          "output_type": "stream",
          "name": "stdout",
          "text": [
            "/content/speech_commands_v1_10_commands\n"
          ]
        }
      ]
    },
    {
      "cell_type": "code",
      "source": [
        "ls"
      ],
      "metadata": {
        "colab": {
          "base_uri": "https://localhost:8080/"
        },
        "id": "ddue-z0vyJkP",
        "outputId": "15265bea-067a-45b3-f926-a6ab3bcc2161"
      },
      "execution_count": 30,
      "outputs": [
        {
          "output_type": "stream",
          "name": "stdout",
          "text": [
            "\u001b[0m\u001b[01;34mdown\u001b[0m/  \u001b[01;34mgo\u001b[0m/  \u001b[01;34mleft\u001b[0m/  \u001b[01;34mno\u001b[0m/  \u001b[01;34moff\u001b[0m/  \u001b[01;34mon\u001b[0m/  \u001b[01;34mright\u001b[0m/  \u001b[01;34mstop\u001b[0m/  \u001b[01;34mup\u001b[0m/  \u001b[01;34myes\u001b[0m/\n"
          ]
        }
      ]
    },
    {
      "cell_type": "markdown",
      "source": [
        "These are the Python package versions used at the time writing this code. You need not use the same versions. Use the latest version that supports all the code given later."
      ],
      "metadata": {
        "id": "HYO-I7p1_CU-"
      }
    },
    {
      "cell_type": "code",
      "source": [
        "!pip install librosa==0.10.0\n",
        "!pip install matplotlib==3.7.1\n",
        "!pip install opencv-python==4.7.0.72"
      ],
      "metadata": {
        "id": "yyqJiktP-yP4"
      },
      "execution_count": null,
      "outputs": []
    },
    {
      "cell_type": "markdown",
      "source": [
        "Example of spectrograms for a particular audio file"
      ],
      "metadata": {
        "id": "OZJMOvon2c9Q"
      }
    },
    {
      "cell_type": "code",
      "source": [
        "%matplotlib inline\n",
        "import librosa\n",
        "import cv2\n",
        "from matplotlib import pyplot as plt\n",
        "\n",
        "# Sample Rate\n",
        "sr = 16000\n",
        "y, _ = librosa.load('go/b43de700_nohash_1.wav', sr = sr)\n",
        "\n",
        "# Checks if the audio file is exactly one second long\n",
        "if(len(y) == sr):\n",
        "    mel_feat = librosa.feature.melspectrogram(y=y, sr=sr, n_fft=1024, hop_length=128, power=1.0, n_mels=60, fmin=40.0, fmax=sr/2)\n",
        "    mfcc_feat = librosa.feature.mfcc(y=y, n_mfcc=12, sr=sr)\n",
        "    log_power_mel_feat = librosa.power_to_db(mel_feat)\n",
        "\n",
        "\n",
        "    mel_resized_image = cv2.resize(mel_feat, (32,32))\n",
        "    mfcc_resized_image = cv2.resize(mfcc_feat, (32,32))\n",
        "    log_power_mel_resized_image = cv2.resize(log_power_mel_feat, (32,32))\n",
        "\n",
        "    plt.subplot(1, 3, 1)\n",
        "    plt.imshow(mel_resized_image)\n",
        "    plt.title(\"Mel Spectrogram\", fontsize = 8)\n",
        "\n",
        "    plt.subplot(1, 3, 2)\n",
        "    plt.imshow(mfcc_resized_image)\n",
        "    plt.title(\"MFCC Spectrogram\", fontsize = 8)\n",
        "\n",
        "    plt.subplot(1, 3, 3)\n",
        "    plt.imshow(log_power_mel_resized_image)\n",
        "    plt.title(\"Log Power Mel Spectrogram\", fontsize = 8)\n",
        "\n",
        "    plt.show()"
      ],
      "metadata": {
        "colab": {
          "base_uri": "https://localhost:8080/",
          "height": 222
        },
        "id": "g1rTQQV4y6_u",
        "outputId": "dfc3c43f-67d3-4dcc-bd6e-4c0bf2cc2223"
      },
      "execution_count": 28,
      "outputs": [
        {
          "output_type": "display_data",
          "data": {
            "text/plain": [
              "<Figure size 640x480 with 3 Axes>"
            ],
            "image/png": "[encoded data removed]"
          },
          "metadata": {}
        }
      ]
    },
    {
      "cell_type": "markdown",
      "source": [
        "Create the dataset containing spectrograms of the corresponding audio files of speech commands"
      ],
      "metadata": {
        "id": "qPwSsje93qKs"
      }
    },
    {
      "cell_type": "code",
      "source": [
        "%matplotlib inline\n",
        "import librosa\n",
        "import cv2\n",
        "import os\n",
        "from matplotlib import pyplot as plt\n",
        "\n",
        "target_path = '/content/speech_commands_mel/'\n",
        "starting_path = '/content/speech_commands_v1_10_commands/'\n",
        "\n",
        "# Commands used\n",
        "labels = ['down', 'go', 'left', 'no', 'off', 'on', 'right', 'stop', 'up', 'yes']\n",
        "\n",
        "# Creating the folder and subfolders for the dataset\n",
        "\n",
        "# Create the target path directory, if already created, pass\n",
        "try:\n",
        "  os.mkdir(target_path)\n",
        "except:\n",
        "  pass\n",
        "\n",
        "for command in labels:\n",
        "  try:\n",
        "    os.mkdir(target_path + command)\n",
        "  except:\n",
        "    pass\n",
        "\n",
        "sr = 16000\n",
        "\n",
        "for label in labels:\n",
        "    for f in os.listdir(starting_path + label):\n",
        "        if(f.endswith('.wav')):\n",
        "            file_name = f[0:-4]\n",
        "            y, _ = librosa.load(starting_path + label + '/' + f, sr = sr)\n",
        "            if(len(y) == sr):\n",
        "                # Comment out the code for the spectrograms you're not using\n",
        "                # Mel Spectrogram\n",
        "                features = librosa.feature.melspectrogram(y=y, sr=sr, n_fft=1024, hop_length=128, power=1.0, n_mels=60, fmin=40.0, fmax=sr/2)\n",
        "                \n",
        "                # MFCC\n",
        "                # features = librosa.feature.mfcc(y=y, n_mfcc=12, sr=sr)\n",
        "                \n",
        "                \n",
        "                # Log Power Mel Spectrogram\n",
        "                # mel_features = librosa.feature.melspectrogram(y=y, sr=sr, n_fft=1024, hop_length=128, power=1.0, n_mels=60, fmin=40.0, fmax=sr/2)\n",
        "                # features = librosa.power_to_db(mel_features)\n",
        "\n",
        "\n",
        "                resized_image = cv2.resize(features, (32,32))\n",
        "                plt.imsave(target_path + label + '/' + file_name + '.png', resized_image)"
      ],
      "metadata": {
        "id": "FIzz8Za02pPI"
      },
      "execution_count": null,
      "outputs": []
    },
    {
      "cell_type": "markdown",
      "source": [
        "Now, you should have a folder with the commands as subdirectories, and the spectrogram images in there."
      ],
      "metadata": {
        "id": "IGpQu80i7Op9"
      }
    }
  ]
}