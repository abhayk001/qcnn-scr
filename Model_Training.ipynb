{
  "nbformat": 4,
  "nbformat_minor": 0,
  "metadata": {
    "colab": {
      "provenance": []
    },
    "kernelspec": {
      "name": "python3",
      "display_name": "Python 3"
    },
    "language_info": {
      "name": "python"
    }
  },
  "cells": [
    {
      "cell_type": "markdown",
      "source": [
        "# Training of model for Speech Command Recognition"
      ],
      "metadata": {
        "id": "5Y95HiQAJz0A"
      }
    },
    {
      "cell_type": "markdown",
      "source": [
        "Load the quanvolved data. Enter the directory that you used for quanvolution"
      ],
      "metadata": {
        "id": "uz4aVLSXKATX"
      }
    },
    {
      "cell_type": "code",
      "execution_count": 3,
      "metadata": {
        "id": "if6szfxzIf15"
      },
      "outputs": [],
      "source": [
        "import numpy as np\n",
        "\n",
        "q_train_images = np.load(\"/content/drive/MyDrive/Quanvolved Data/Log Power Mel Deployment/q_train_images_power_mel_dep.npy\")\n",
        "q_test_images = np.load(\"/content/drive/MyDrive/Quanvolved Data/Log Power Mel Deployment/q_test_images_power_mel_dep.npy\")\n",
        "q_val_images = np.load(\"/content/drive/MyDrive/Quanvolved Data/Log Power Mel Deployment/q_val_images_power_mel_dep.npy\")\n",
        "\n",
        "train_labels = np.load(\"/content/drive/MyDrive/Quanvolved Data/Log Power Mel Deployment/train_labels_power_mel_dep.npy\")\n",
        "test_labels = np.load(\"/content/drive/MyDrive/Quanvolved Data/Log Power Mel Deployment/test_labels_power_mel_dep.npy\")\n",
        "val_labels = np.load(\"/content/drive/MyDrive/Quanvolved Data/Log Power Mel Deployment/val_labels_power_mel_dep.npy\")"
      ]
    },
    {
      "cell_type": "markdown",
      "source": [
        "Run the below cell for the 2x2 model"
      ],
      "metadata": {
        "id": "Jjk26VvKKihm"
      }
    },
    {
      "cell_type": "code",
      "source": [
        "from tensorflow.keras.models import Sequential\n",
        "from tensorflow.keras.layers import Conv2D, MaxPooling2D, Dense, Flatten\n",
        "\n",
        "def ClassificationModel():\n",
        "  model = Sequential()\n",
        "  model.add(Conv2D(32, (3, 3), activation='relu', kernel_initializer='he_uniform', input_shape=(16, 16, 12)))\n",
        "  model.add(MaxPooling2D((2, 2)))\n",
        "  model.add(Conv2D(64, (3, 3), activation='relu', kernel_initializer='he_uniform'))\n",
        "  model.add(Conv2D(64, (3, 3), activation='relu', kernel_initializer='he_uniform'))\n",
        "  model.add(MaxPooling2D((2, 2)))\n",
        "  model.add(Flatten())\n",
        "  model.add(Dense(100, activation='relu', kernel_initializer='he_uniform'))\n",
        "  model.add(Dense(10, activation='softmax'))\n",
        "\n",
        "  model.compile(\n",
        "        optimizer='adam',\n",
        "        loss=\"sparse_categorical_crossentropy\",\n",
        "        metrics=[\"accuracy\"],\n",
        "    )\n",
        "  return model"
      ],
      "metadata": {
        "id": "lRvZtTmEKVWI"
      },
      "execution_count": 8,
      "outputs": []
    },
    {
      "cell_type": "markdown",
      "source": [
        "Run the below cell for 3x3 model. Here the input shape is 33x33x3 because it gives errors with 11x11x27 shape. This is most probably because 27 is greater than 11, and it doesn't like an input shape axbxc where c is greater than a or b. For this, we reshape the quanvolved images later into 33x33x3"
      ],
      "metadata": {
        "id": "l0A1Wz2KKmFg"
      }
    },
    {
      "cell_type": "code",
      "source": [
        "from tensorflow.keras.models import Sequential\n",
        "from tensorflow.keras.layers import Conv2D, MaxPooling2D, Dense, Flatten\n",
        "\n",
        "def ClassificationModel():\n",
        "  model = Sequential()\n",
        "  model.add(Conv2D(32, (3, 3), activation='relu', kernel_initializer='he_uniform', input_shape=(33, 33, 3)))\n",
        "  model.add(MaxPooling2D((2, 2)))\n",
        "  model.add(Conv2D(64, (3, 3), activation='relu', kernel_initializer='he_uniform'))\n",
        "  model.add(Conv2D(64, (3, 3), activation='relu', kernel_initializer='he_uniform'))\n",
        "  model.add(MaxPooling2D((2, 2)))\n",
        "  model.add(Flatten())\n",
        "  model.add(Dense(100, activation='relu', kernel_initializer='he_uniform'))\n",
        "  model.add(Dense(10, activation='softmax'))\n",
        "\n",
        "  model.compile(\n",
        "        optimizer='adam',\n",
        "        loss=\"sparse_categorical_crossentropy\",\n",
        "        metrics=[\"accuracy\"],\n",
        "    )\n",
        "  return model"
      ],
      "metadata": {
        "id": "-XN8we1BKcbq"
      },
      "execution_count": null,
      "outputs": []
    },
    {
      "cell_type": "markdown",
      "source": [
        "The below cell flattens the labels or commands arrays to make it compatible for training"
      ],
      "metadata": {
        "id": "nAz9PfgaLm6J"
      }
    },
    {
      "cell_type": "code",
      "source": [
        "import numpy as np\n",
        "\n",
        "train_labels = train_labels.flatten()\n",
        "test_labels = test_labels.flatten()\n",
        "val_labels = val_labels.flatten()"
      ],
      "metadata": {
        "id": "M9Gw_p4DLND2"
      },
      "execution_count": 5,
      "outputs": []
    },
    {
      "cell_type": "markdown",
      "source": [
        "Only run the below cell if you're using 3x3 quanvolution data. This reshapes the arrays to 33x33x3 size"
      ],
      "metadata": {
        "id": "vLIjTN9TMCJl"
      }
    },
    {
      "cell_type": "code",
      "source": [
        "import tensorflow as tf\n",
        "\n",
        "shape = q_val_images.shape\n",
        "q_val_images = tf.reshape(q_val_images, (shape[0], 33, 33, 3))\n",
        "\n",
        "shape = q_test_images.shape\n",
        "q_test_images = tf.reshape(q_test_images, (shape[0], 33, 33, 3))\n",
        "\n",
        "shape = q_train_images.shape\n",
        "q_train_images = tf.reshape(q_train_images, (shape[0], 33, 33, 3))"
      ],
      "metadata": {
        "id": "Ex87vnBKLwoN"
      },
      "execution_count": null,
      "outputs": []
    },
    {
      "cell_type": "markdown",
      "source": [
        "Model Structure"
      ],
      "metadata": {
        "id": "PWxF70QnM4Et"
      }
    },
    {
      "cell_type": "code",
      "source": [
        "model = ClassificationModel()\n",
        "model.summary()"
      ],
      "metadata": {
        "colab": {
          "base_uri": "https://localhost:8080/"
        },
        "id": "_yvyyGl1MLgN",
        "outputId": "c5d990f1-0bbe-452c-8204-5ce6f7e32f50"
      },
      "execution_count": 9,
      "outputs": [
        {
          "output_type": "stream",
          "name": "stdout",
          "text": [
            "Model: \"sequential_2\"\n",
            "_________________________________________________________________\n",
            " Layer (type)                Output Shape              Param #   \n",
            "=================================================================\n",
            " conv2d_6 (Conv2D)           (None, 14, 14, 32)        3488      \n",
            "                                                                 \n",
            " max_pooling2d_4 (MaxPooling  (None, 7, 7, 32)         0         \n",
            " 2D)                                                             \n",
            "                                                                 \n",
            " conv2d_7 (Conv2D)           (None, 5, 5, 64)          18496     \n",
            "                                                                 \n",
            " conv2d_8 (Conv2D)           (None, 3, 3, 64)          36928     \n",
            "                                                                 \n",
            " max_pooling2d_5 (MaxPooling  (None, 1, 1, 64)         0         \n",
            " 2D)                                                             \n",
            "                                                                 \n",
            " flatten_2 (Flatten)         (None, 64)                0         \n",
            "                                                                 \n",
            " dense_4 (Dense)             (None, 100)               6500      \n",
            "                                                                 \n",
            " dense_5 (Dense)             (None, 10)                1010      \n",
            "                                                                 \n",
            "=================================================================\n",
            "Total params: 66,422\n",
            "Trainable params: 66,422\n",
            "Non-trainable params: 0\n",
            "_________________________________________________________________\n"
          ]
        }
      ]
    },
    {
      "cell_type": "markdown",
      "source": [
        "Training the Model"
      ],
      "metadata": {
        "id": "s_kBb3fKNTlo"
      }
    },
    {
      "cell_type": "code",
      "source": [
        "history = model.fit(\n",
        "    q_train_images,\n",
        "    train_labels,\n",
        "    validation_data=(q_val_images, val_labels),\n",
        "    batch_size=32,\n",
        "    epochs=20,\n",
        "    verbose=2,\n",
        ")"
      ],
      "metadata": {
        "colab": {
          "base_uri": "https://localhost:8080/"
        },
        "id": "PqZ28J5rM5-g",
        "outputId": "df29f0c0-5850-49fa-993d-e7773cc4681a"
      },
      "execution_count": 10,
      "outputs": [
        {
          "output_type": "stream",
          "name": "stdout",
          "text": [
            "Epoch 1/20\n",
            "466/466 - 11s - loss: 1.2516 - accuracy: 0.5542 - val_loss: 0.8453 - val_accuracy: 0.6992 - 11s/epoch - 24ms/step\n",
            "Epoch 2/20\n",
            "466/466 - 7s - loss: 0.6438 - accuracy: 0.7751 - val_loss: 0.5909 - val_accuracy: 0.7935 - 7s/epoch - 15ms/step\n",
            "Epoch 3/20\n",
            "466/466 - 9s - loss: 0.4683 - accuracy: 0.8371 - val_loss: 0.5229 - val_accuracy: 0.8130 - 9s/epoch - 20ms/step\n",
            "Epoch 4/20\n",
            "466/466 - 8s - loss: 0.3874 - accuracy: 0.8637 - val_loss: 0.4471 - val_accuracy: 0.8489 - 8s/epoch - 18ms/step\n",
            "Epoch 5/20\n",
            "466/466 - 9s - loss: 0.3278 - accuracy: 0.8858 - val_loss: 0.4474 - val_accuracy: 0.8499 - 9s/epoch - 19ms/step\n",
            "Epoch 6/20\n",
            "466/466 - 9s - loss: 0.2738 - accuracy: 0.9043 - val_loss: 0.3936 - val_accuracy: 0.8698 - 9s/epoch - 20ms/step\n",
            "Epoch 7/20\n",
            "466/466 - 7s - loss: 0.2430 - accuracy: 0.9146 - val_loss: 0.3651 - val_accuracy: 0.8818 - 7s/epoch - 15ms/step\n",
            "Epoch 8/20\n",
            "466/466 - 10s - loss: 0.2081 - accuracy: 0.9261 - val_loss: 0.3842 - val_accuracy: 0.8792 - 10s/epoch - 22ms/step\n",
            "Epoch 9/20\n",
            "466/466 - 8s - loss: 0.1830 - accuracy: 0.9375 - val_loss: 0.4314 - val_accuracy: 0.8715 - 8s/epoch - 17ms/step\n",
            "Epoch 10/20\n",
            "466/466 - 8s - loss: 0.1560 - accuracy: 0.9453 - val_loss: 0.3992 - val_accuracy: 0.8860 - 8s/epoch - 17ms/step\n",
            "Epoch 11/20\n",
            "466/466 - 9s - loss: 0.1418 - accuracy: 0.9516 - val_loss: 0.4977 - val_accuracy: 0.8586 - 9s/epoch - 20ms/step\n",
            "Epoch 12/20\n",
            "466/466 - 7s - loss: 0.1253 - accuracy: 0.9559 - val_loss: 0.4754 - val_accuracy: 0.8680 - 7s/epoch - 16ms/step\n",
            "Epoch 13/20\n",
            "466/466 - 9s - loss: 0.1205 - accuracy: 0.9585 - val_loss: 0.4726 - val_accuracy: 0.8741 - 9s/epoch - 20ms/step\n",
            "Epoch 14/20\n",
            "466/466 - 8s - loss: 0.0849 - accuracy: 0.9712 - val_loss: 0.4527 - val_accuracy: 0.8851 - 8s/epoch - 16ms/step\n",
            "Epoch 15/20\n",
            "466/466 - 9s - loss: 0.0936 - accuracy: 0.9680 - val_loss: 0.4743 - val_accuracy: 0.8889 - 9s/epoch - 20ms/step\n",
            "Epoch 16/20\n",
            "466/466 - 8s - loss: 0.0828 - accuracy: 0.9704 - val_loss: 0.5653 - val_accuracy: 0.8675 - 8s/epoch - 17ms/step\n",
            "Epoch 17/20\n",
            "466/466 - 8s - loss: 0.0791 - accuracy: 0.9716 - val_loss: 0.5513 - val_accuracy: 0.8802 - 8s/epoch - 17ms/step\n",
            "Epoch 18/20\n",
            "466/466 - 9s - loss: 0.0629 - accuracy: 0.9785 - val_loss: 0.5359 - val_accuracy: 0.8835 - 9s/epoch - 20ms/step\n",
            "Epoch 19/20\n",
            "466/466 - 8s - loss: 0.0725 - accuracy: 0.9750 - val_loss: 0.6547 - val_accuracy: 0.8684 - 8s/epoch - 16ms/step\n",
            "Epoch 20/20\n",
            "466/466 - 9s - loss: 0.0635 - accuracy: 0.9767 - val_loss: 0.6214 - val_accuracy: 0.8797 - 9s/epoch - 20ms/step\n"
          ]
        }
      ]
    },
    {
      "cell_type": "markdown",
      "source": [
        "Save the Model"
      ],
      "metadata": {
        "id": "iAD6bqVENhtY"
      }
    },
    {
      "cell_type": "code",
      "source": [
        "model.save('/content/model_dep.h5')"
      ],
      "metadata": {
        "id": "uFYuKFBiNYTz"
      },
      "execution_count": 11,
      "outputs": []
    },
    {
      "cell_type": "markdown",
      "source": [
        "Loss Plot"
      ],
      "metadata": {
        "id": "0XY3TK1sORbx"
      }
    },
    {
      "cell_type": "code",
      "source": [
        "from matplotlib import pyplot as plt\n",
        "\n",
        "fig = plt.figure()\n",
        "plt.plot(history.history['loss'], color='red', label='training')\n",
        "plt.plot(history.history['val_loss'], color='blue', label='validation')\n",
        "fig.suptitle('Loss', fontsize=20)\n",
        "plt.legend(loc=\"upper right\")\n",
        "plt.xlabel('Epoch')\n",
        "plt.ylabel('Loss')\n",
        "plt.show()"
      ],
      "metadata": {
        "colab": {
          "base_uri": "https://localhost:8080/",
          "height": 497
        },
        "id": "lpXWNVnZNoJZ",
        "outputId": "bf41a043-f4c7-4a5f-ec7e-c7551a660ba1"
      },
      "execution_count": 23,
      "outputs": [
        {
          "output_type": "display_data",
          "data": {
            "text/plain": [
              "<Figure size 640x480 with 1 Axes>"
            ],
            "image/png": "[encoded data removed]"
          },
          "metadata": {}
        }
      ]
    },
    {
      "cell_type": "markdown",
      "source": [
        "Accuracy Plot"
      ],
      "metadata": {
        "id": "65_HvndeOTn3"
      }
    },
    {
      "cell_type": "code",
      "source": [
        "from matplotlib import pyplot as plt\n",
        "\n",
        "fig = plt.figure()\n",
        "plt.plot(history.history['accuracy'], color='red', label='training')\n",
        "plt.plot(history.history['val_accuracy'], color='blue', label='validation')\n",
        "fig.suptitle('Accuracy', fontsize=20)\n",
        "plt.legend(loc=\"lower right\")\n",
        "plt.xlabel('Epoch')\n",
        "plt.ylabel('Accuracy')\n",
        "plt.show()"
      ],
      "metadata": {
        "colab": {
          "base_uri": "https://localhost:8080/",
          "height": 497
        },
        "id": "WbPFB9N1OJ_H",
        "outputId": "ef143239-f722-4e0e-fb41-58647d13350b"
      },
      "execution_count": 24,
      "outputs": [
        {
          "output_type": "display_data",
          "data": {
            "text/plain": [
              "<Figure size 640x480 with 1 Axes>"
            ],
            "image/png": "[encoded data removed]"
          },
          "metadata": {}
        }
      ]
    },
    {
      "cell_type": "markdown",
      "source": [
        "FLOP Count for Model. For this, we use a package called keras-flops (https://pypi.org/project/keras-flops/)"
      ],
      "metadata": {
        "id": "nm7dM1NsOj83"
      }
    },
    {
      "cell_type": "code",
      "source": [
        "from keras_flops import get_flops\n",
        "\n",
        "flops = get_flops(model, batch_size=32)\n",
        "print(f\"FLOPS: {flops}\")"
      ],
      "metadata": {
        "colab": {
          "base_uri": "https://localhost:8080/"
        },
        "id": "SlPO4LT7Ogia",
        "outputId": "109cd0bb-ff05-421f-9de6-b70869c9741a"
      },
      "execution_count": 18,
      "outputs": [
        {
          "output_type": "stream",
          "name": "stdout",
          "text": [
            "FLOPS: 95034880\n"
          ]
        }
      ]
    },
    {
      "cell_type": "markdown",
      "source": [
        "Testing with test split of dataset"
      ],
      "metadata": {
        "id": "xk_NBHVhOoEk"
      }
    },
    {
      "cell_type": "code",
      "source": [
        "import numpy as np\n",
        "\n",
        "# Computing the predictions, which are in form of arrays\n",
        "y_true = []\n",
        "y_pred = []\n",
        "for i in range(len(test_labels)):\n",
        "  y_true.append(test_labels[i])\n",
        "  y_pred.append(model.predict(np.expand_dims(q_test_images[i], 0)))\n",
        "\n",
        "# Taking the max of the arrays to get one prediction per input\n",
        "yhat = []\n",
        "for pred in y_pred:\n",
        "  yhat.append(np.argmax(pred))"
      ],
      "metadata": {
        "id": "zePA6DNgO8Zo"
      },
      "execution_count": null,
      "outputs": []
    },
    {
      "cell_type": "markdown",
      "source": [
        "Classification Report (including testing accuracy)"
      ],
      "metadata": {
        "id": "MHWwsTfSPRpz"
      }
    },
    {
      "cell_type": "code",
      "source": [
        "from sklearn.metrics import classification_report\n",
        "\n",
        "# Directories listed in alphabetical order as the labels are in the form of numbers right now\n",
        "directories = ['down', 'go', 'left', 'no', 'off', 'on', 'right', 'stop', 'up', 'yes']\n",
        "\n",
        "print(classification_report(y_true, yhat, digits=4, target_names=directories))"
      ],
      "metadata": {
        "colab": {
          "base_uri": "https://localhost:8080/"
        },
        "id": "1oYFP-JOPRJm",
        "outputId": "c9c40d0e-fc8a-489a-90d7-605cde388ba7"
      },
      "execution_count": 20,
      "outputs": [
        {
          "output_type": "stream",
          "name": "stdout",
          "text": [
            "              precision    recall  f1-score   support\n",
            "\n",
            "        down     0.8636    0.8814    0.8724       194\n",
            "          go     0.8479    0.8762    0.8618       210\n",
            "        left     0.9302    0.8734    0.9009       229\n",
            "          no     0.8216    0.8294    0.8255       211\n",
            "         off     0.8989    0.8247    0.8602       194\n",
            "          on     0.8652    0.9706    0.9149       238\n",
            "       right     0.9352    0.9352    0.9352       216\n",
            "        stop     0.9000    0.9119    0.9059       227\n",
            "          up     0.8856    0.8318    0.8578       214\n",
            "         yes     0.9282    0.9194    0.9238       211\n",
            "\n",
            "    accuracy                         0.8871      2144\n",
            "   macro avg     0.8876    0.8854    0.8858      2144\n",
            "weighted avg     0.8880    0.8871    0.8869      2144\n",
            "\n"
          ]
        }
      ]
    },
    {
      "cell_type": "markdown",
      "source": [
        "Sparse Categorical Cross-Entropy"
      ],
      "metadata": {
        "id": "DcVnazVtQByS"
      }
    },
    {
      "cell_type": "code",
      "source": [
        "import tensorflow as tf\n",
        "\n",
        "scce = tf.keras.losses.SparseCategoricalCrossentropy()\n",
        "print(scce(y_true, y_pred).numpy())"
      ],
      "metadata": {
        "colab": {
          "base_uri": "https://localhost:8080/"
        },
        "id": "ZLBaeiRNQEi-",
        "outputId": "3eab931e-d504-4030-a445-2136ecc65d2f"
      },
      "execution_count": 21,
      "outputs": [
        {
          "output_type": "stream",
          "name": "stdout",
          "text": [
            "0.5441653\n"
          ]
        }
      ]
    }
  ]
}